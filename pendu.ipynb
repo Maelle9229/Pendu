{
 "cells": [
  {
   "cell_type": "markdown",
   "id": "a43ad6d0",
   "metadata": {},
   "source": [
    "**Pendu**\n",
    "\n",
    "Les mots à deviner sont en anglais, enjoy!"
   ]
  },
  {
   "cell_type": "code",
   "execution_count": null,
   "id": "b76cb820",
   "metadata": {
    "scrolled": true
   },
   "outputs": [],
   "source": [
    "# Importation des librairies\n",
    "\n",
    "import pandas as pd\n",
    "import random\n",
    "import tkinter as tk\n",
    "\n",
    "from tkinter import messagebox"
   ]
  },
  {
   "cell_type": "code",
   "execution_count": 47,
   "id": "23216413",
   "metadata": {},
   "outputs": [],
   "source": [
    "# Charger le dataset (supposons que le fichier contient une colonne \"mots\")\n",
    "dataset = pd.read_csv('data_set.csv')"
   ]
  },
  {
   "cell_type": "code",
   "execution_count": null,
   "id": "52115cd7",
   "metadata": {},
   "outputs": [],
   "source": [
    "# Supprimer les mots de moins de 7 lettres du dataset\n",
    "mots_longs = dataset[dataset['word'].str.len() >= 7]"
   ]
  },
  {
   "cell_type": "code",
   "execution_count": null,
   "id": "5ee77850",
   "metadata": {},
   "outputs": [
    {
     "name": "stdout",
     "output_type": "stream",
     "text": [
      "vernham\n"
     ]
    }
   ],
   "source": [
    "# Choisir un mot aléatoirement parmi les mots longs du dataset\n",
    "mot_aleatoire = random.choice(mots_longs['word'].tolist())\n",
    "print(mot_aleatoire)"
   ]
  },
  {
   "cell_type": "markdown",
   "id": "eb42ed10",
   "metadata": {},
   "source": [
    "Le mot qui s'affiche juste au dessus sera le mot à deviner."
   ]
  },
  {
   "cell_type": "code",
   "execution_count": 50,
   "id": "c38d5ba6",
   "metadata": {},
   "outputs": [
    {
     "name": "stdout",
     "output_type": "stream",
     "text": [
      "Mot caché : _ _ _ _ _ _ _\n",
      "Nombre de lettres : 7\n"
     ]
    }
   ],
   "source": [
    "# Afficher les tirets pour le nombre de lettres\n",
    "def cacher_mot(mot_aleatoire):\n",
    "    # Associer chaque lettre à un tiret avec des espaces entre les tirets\n",
    "    return ' '.join('_' for _ in mot_aleatoire)\n",
    "\n",
    "# Exemple d'utilisation\n",
    "mot_cache = cacher_mot(mot_aleatoire)\n",
    "\n",
    "# Afficher le mot caché et le nombre de lettres\n",
    "print(f\"Mot caché : {mot_cache}\")\n",
    "print(f\"Nombre de lettres : {len(mot_aleatoire)}\")"
   ]
  },
  {
   "cell_type": "markdown",
   "id": "00621a4d",
   "metadata": {},
   "source": [
    "Ici les lettres du mots s'affichent sous forme de \"_\" pour que le joueur découvre le mot, ainsi que le nombre de lettres du mot."
   ]
  },
  {
   "cell_type": "code",
   "execution_count": null,
   "id": "b0a684f0",
   "metadata": {},
   "outputs": [],
   "source": [
    "#implémentation du nombre de vies\n",
    "vies = 10\n",
    "\n",
    "# Fonction pour mettre à jour l'état du mot à deviner\n",
    "def devoiler_lettre(mot_aleatoire, mot_cache, lettre):\n",
    "    nouveau_mot_cache = ''.join(lettre if mot_aleatoire[i] == lettre else mot_cache[i] for i in range(len(mot_aleatoire)))\n",
    "    return nouveau_mot_cache\n",
    "\n",
    "# Fonction appelée lorsque l'utilisateur entre une lettre\n",
    "def verifier_lettre():\n",
    "    global vies, mot_cache\n",
    "    lettre = entry_lettre.get().strip().lower()  # Récupère la lettre entrée\n",
    "    entry_lettre.delete(0, tk.END) \n",
    "    \n",
    "    if len(lettre) != 1 or not lettre.isalpha():\n",
    "        messagebox.showwarning(\"Erreur\", \"Veuillez entrer une seule lettre.\")\n",
    "        return\n",
    "    \n",
    "    if lettre in lettres_utilisees:\n",
    "        messagebox.showinfo(\"Info\", \"Vous avez déjà utilisé cette lettre.\")\n",
    "        return\n",
    "    \n",
    "    \n",
    "    if lettre in mot_aleatoire:\n",
    "        mot_cache = devoiler_lettre(mot_aleatoire, mot_cache, lettre)\n",
    "        label_mot.config(text=f\"Mot à deviner : {(mot_cache)}\")\n",
    "    else:\n",
    "        lettres_utilisees.append(lettre)\n",
    "        label_lettres.config(text=f\"Lettres utilisées : {', '.join(lettres_utilisees)}\")\n",
    "        vies -= 1\n",
    "        label_vies.config(text=f\"Vies restantes : {vies}\")\n",
    "    \n",
    "    # Vérifier si le joueur a gagné ou perdu\n",
    "    if mot_cache == mot_aleatoire:\n",
    "        messagebox.showinfo(\"Victoire\", f\"Félicitations ! Vous avez deviné le mot : {mot_aleatoire}\")\n",
    "        root.quit()  # Ferme la fenêtre après la victoire\n",
    "    elif vies <= 0:\n",
    "        messagebox.showerror(\"Défaite\", f\"Dommage, vous avez perdu. Le mot était : {mot_aleatoire}\")\n",
    "        root.quit()  # Ferme la fenêtre après la défaite\n",
    "\n",
    "lettres_utilisees = []\n",
    "\n",
    "# Création de la fenêtre principale\n",
    "root = tk.Tk()\n",
    "root.title(\"Jeu du Pendu\")\n",
    "\n",
    "# Widgets pour afficher le mot caché et les vies\n",
    "label_mot = tk.Label(root, text=f\"Mot à deviner : {(mot_cache)}\", font=(\"Helvetica\", 16))\n",
    "label_mot.pack(pady=10)\n",
    "\n",
    "label_vies = tk.Label(root, text=f\"Vies restantes : {vies}\", font=(\"Helvetica\", 14))\n",
    "label_vies.pack(pady=5)\n",
    "\n",
    "label_lettres = tk.Label(root, text=\"Lettres utilisées : \", font=(\"Helvetica\", 12))\n",
    "label_lettres.pack(pady=5)\n",
    "\n",
    "# Zone pour entrer une lettre\n",
    "frame_entry = tk.Frame(root)\n",
    "frame_entry.pack(pady=10)\n",
    "\n",
    "entry_lettre = tk.Entry(frame_entry, font=(\"Helvetica\", 14), width=5)\n",
    "entry_lettre.pack(side=tk.LEFT, padx=5)\n",
    "\n",
    "button_verifier = tk.Button(frame_entry, text=\"Vérifier\", font=(\"Helvetica\", 12), command=verifier_lettre)\n",
    "button_verifier.pack(side=tk.LEFT)\n",
    "\n",
    "# Lancer la boucle principale de Tkinter\n",
    "root.mainloop()"
   ]
  },
  {
   "cell_type": "markdown",
   "id": "d67c6c7e",
   "metadata": {},
   "source": [
    "Une fenêtre apparaît, vous avez 10 vies pour tenter de découvrir le mot !"
   ]
  }
 ],
 "metadata": {
  "kernelspec": {
   "display_name": "Python 3",
   "language": "python",
   "name": "python3"
  },
  "language_info": {
   "codemirror_mode": {
    "name": "ipython",
    "version": 3
   },
   "file_extension": ".py",
   "mimetype": "text/x-python",
   "name": "python",
   "nbconvert_exporter": "python",
   "pygments_lexer": "ipython3",
   "version": "3.10.11"
  }
 },
 "nbformat": 4,
 "nbformat_minor": 5
}
